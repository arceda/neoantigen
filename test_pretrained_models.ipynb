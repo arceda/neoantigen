{
 "cells": [
  {
   "attachments": {},
   "cell_type": "markdown",
   "id": "70c55b9e",
   "metadata": {},
   "source": [
    "# TAPE"
   ]
  },
  {
   "cell_type": "code",
   "execution_count": 2,
   "id": "5cffff80-0c20-4f63-ae5e-a828b00d01d6",
   "metadata": {},
   "outputs": [
    {
     "name": "stderr",
     "output_type": "stream",
     "text": [
      "/home/vicente/anaconda3/envs/torch11/lib/python3.8/site-packages/tqdm/auto.py:21: TqdmWarning: IProgress not found. Please update jupyter and ipywidgets. See https://ipywidgets.readthedocs.io/en/stable/user_install.html\n",
      "  from .autonotebook import tqdm as notebook_tqdm\n"
     ]
    }
   ],
   "source": [
    "import torch\n",
    "from tape import ProteinBertModel, TAPETokenizer"
   ]
  },
  {
   "cell_type": "code",
   "execution_count": 4,
   "id": "8b18e759-686e-4513-9414-ed50e525a3b4",
   "metadata": {},
   "outputs": [],
   "source": [
    "model = ProteinBertModel.from_pretrained('bert-base')\n",
    "tokenizer = TAPETokenizer(vocab='iupac')  # iupac is the vocab for TAPE models, use unirep for the UniRep model\n",
    "#print(model)"
   ]
  },
  {
   "cell_type": "code",
   "execution_count": 5,
   "id": "d5b69b4e-61dd-479e-ae74-0da77d3233b6",
   "metadata": {},
   "outputs": [
    {
     "name": "stdout",
     "output_type": "stream",
     "text": [
      "[ 2 11  7 23 25  9  8 21  7 15 13 11 16 11  5 13 15 15 17 11  7 25 13 11\n",
      " 22 11 22 15 25  5  5 11  5 15 13 23 20  3]\n",
      "(38,)\n"
     ]
    },
    {
     "name": "stderr",
     "output_type": "stream",
     "text": [
      "/tmp/ipykernel_11350/2687810853.py:5: UserWarning: Creating a tensor from a list of numpy.ndarrays is extremely slow. Please consider converting the list to a single numpy.ndarray with numpy.array() before converting to a tensor. (Triggered internally at  /opt/conda/conda-bld/pytorch_1646755903507/work/torch/csrc/utils/tensor_new.cpp:210.)\n",
      "  token_ids = torch.tensor([tokenizer.encode(sequence)])\n"
     ]
    }
   ],
   "source": [
    "sequence = 'GCTVEDRCLIGMGAILLNGCVIGSGSLVAAGALITQ'\n",
    "encoding = tokenizer.encode(sequence)\n",
    "print(encoding)\n",
    "print(encoding.shape)\n",
    "token_ids = torch.tensor([tokenizer.encode(sequence)])"
   ]
  },
  {
   "cell_type": "code",
   "execution_count": 6,
   "id": "b234db68-0454-4bb0-8541-eabcf167fcaf",
   "metadata": {},
   "outputs": [
    {
     "name": "stdout",
     "output_type": "stream",
     "text": [
      "torch.Size([1, 38, 768])\n",
      "tensor([[[ 0.9592,  0.7883, -0.2636,  ...,  0.2139,  0.6012, -1.0673],\n",
      "         [ 0.2163, -0.5777, -1.0532,  ..., -1.1601, -0.4544, -0.9216],\n",
      "         [ 2.7015,  0.1971, -0.3688,  ...,  0.7066, -1.1335, -0.6094],\n",
      "         ...,\n",
      "         [-0.5623, -0.3641,  0.2798,  ..., -0.5844, -0.3658,  0.5741],\n",
      "         [ 0.4184, -0.4971, -0.1429,  ...,  0.1260,  0.3042, -0.4440],\n",
      "         [ 0.0213, -0.0259, -1.1278,  ...,  0.2184, -0.7176, -0.2370]]],\n",
      "       grad_fn=<AddBackward0>)\n"
     ]
    }
   ],
   "source": [
    "output = model(token_ids)\n",
    "sequence_output = output[0]\n",
    "pooled_output = output[1]\n",
    "print(sequence_output.shape)\n",
    "print(sequence_output)"
   ]
  },
  {
   "attachments": {},
   "cell_type": "markdown",
   "id": "b3900cca",
   "metadata": {},
   "source": [
    "# PROTBERT"
   ]
  },
  {
   "attachments": {},
   "cell_type": "markdown",
   "id": "1c02e014",
   "metadata": {},
   "source": [
    "https://github.com/agemagician/ProtTrans"
   ]
  },
  {
   "attachments": {},
   "cell_type": "markdown",
   "id": "0a06efe3",
   "metadata": {},
   "source": [
    "ProtBert BFD"
   ]
  },
  {
   "cell_type": "code",
   "execution_count": 6,
   "id": "bd212c51",
   "metadata": {},
   "outputs": [
    {
     "name": "stderr",
     "output_type": "stream",
     "text": [
      "WARNING:root:Limited tf.compat.v2.summary API due to missing TensorBoard installation.\n",
      "WARNING:root:Limited tf.compat.v2.summary API due to missing TensorBoard installation.\n",
      "WARNING:root:Limited tf.compat.v2.summary API due to missing TensorBoard installation.\n",
      "WARNING:root:Limited tf.summary API due to missing TensorBoard installation.\n",
      "Some weights of the model checkpoint at ../../models/prot_bert_bfd were not used when initializing BertForMaskedLM: ['cls.seq_relationship.bias', 'cls.seq_relationship.weight']\n",
      "- This IS expected if you are initializing BertForMaskedLM from the checkpoint of a model trained on another task or with another architecture (e.g. initializing a BertForSequenceClassification model from a BertForPreTraining model).\n",
      "- This IS NOT expected if you are initializing BertForMaskedLM from the checkpoint of a model that you expect to be exactly identical (initializing a BertForSequenceClassification model from a BertForSequenceClassification model).\n"
     ]
    },
    {
     "data": {
      "text/plain": [
       "[{'score': 0.11656127125024796,\n",
       "  'token': 5,\n",
       "  'token_str': 'L',\n",
       "  'sequence': 'D L I P T S S K L V V L D T S L Q V K K A F F A L V T'},\n",
       " {'score': 0.08976069837808609,\n",
       "  'token': 8,\n",
       "  'token_str': 'V',\n",
       "  'sequence': 'D L I P T S S K L V V V D T S L Q V K K A F F A L V T'},\n",
       " {'score': 0.08864379674196243,\n",
       "  'token': 10,\n",
       "  'token_str': 'S',\n",
       "  'sequence': 'D L I P T S S K L V V S D T S L Q V K K A F F A L V T'},\n",
       " {'score': 0.06227641925215721,\n",
       "  'token': 6,\n",
       "  'token_str': 'A',\n",
       "  'sequence': 'D L I P T S S K L V V A D T S L Q V K K A F F A L V T'},\n",
       " {'score': 0.06194964423775673,\n",
       "  'token': 15,\n",
       "  'token_str': 'T',\n",
       "  'sequence': 'D L I P T S S K L V V T D T S L Q V K K A F F A L V T'}]"
      ]
     },
     "execution_count": 6,
     "metadata": {},
     "output_type": "execute_result"
    }
   ],
   "source": [
    "from transformers import BertForMaskedLM, BertTokenizer, pipeline\n",
    "\n",
    "tokenizer = BertTokenizer.from_pretrained('../../models/prot_bert_bfd', do_lower_case=False )\n",
    "model = BertForMaskedLM.from_pretrained(\"../../models/prot_bert_bfd\")\n",
    "unmasker = pipeline('fill-mask', model=model, tokenizer=tokenizer)\n",
    "unmasker('D L I P T S S K L V V [MASK] D T S L Q V K K A F F A L V T')"
   ]
  },
  {
   "attachments": {},
   "cell_type": "markdown",
   "id": "4c32bfdb",
   "metadata": {},
   "source": [
    "Obtener features de una proteina"
   ]
  },
  {
   "cell_type": "code",
   "execution_count": 10,
   "id": "03034ccf",
   "metadata": {},
   "outputs": [
    {
     "name": "stderr",
     "output_type": "stream",
     "text": [
      "Some weights of the model checkpoint at ../../models//prot_bert_bfd were not used when initializing BertModel: ['cls.seq_relationship.bias', 'cls.predictions.bias', 'cls.predictions.transform.dense.weight', 'cls.predictions.transform.LayerNorm.weight', 'cls.seq_relationship.weight', 'cls.predictions.transform.dense.bias', 'cls.predictions.transform.LayerNorm.bias', 'cls.predictions.decoder.bias', 'cls.predictions.decoder.weight']\n",
      "- This IS expected if you are initializing BertModel from the checkpoint of a model trained on another task or with another architecture (e.g. initializing a BertForSequenceClassification model from a BertForPreTraining model).\n",
      "- This IS NOT expected if you are initializing BertModel from the checkpoint of a model that you expect to be exactly identical (initializing a BertForSequenceClassification model from a BertForSequenceClassification model).\n"
     ]
    },
    {
     "name": "stdout",
     "output_type": "stream",
     "text": [
      "BaseModelOutputWithPoolingAndCrossAttentions(last_hidden_state=tensor([[[ 0.0787,  0.0253,  0.1002,  ..., -0.1192, -0.0856,  0.0158],\n",
      "         [ 0.0555, -0.1046, -0.0325,  ...,  0.0509,  0.0432,  0.1018],\n",
      "         [ 0.1390, -0.0466,  0.0219,  ...,  0.0694,  0.1476,  0.0650],\n",
      "         ...,\n",
      "         [ 0.0813, -0.1093, -0.0302,  ...,  0.0872,  0.0206,  0.0516],\n",
      "         [ 0.0620, -0.0642, -0.0204,  ..., -0.0280,  0.0884,  0.0753],\n",
      "         [ 0.0979, -0.0240, -0.0724,  ..., -0.0230,  0.0364,  0.0508]]],\n",
      "       grad_fn=<NativeLayerNormBackward0>), pooler_output=tensor([[-0.3145, -0.2646,  0.3113,  ..., -0.3111, -0.3176,  0.3123]],\n",
      "       grad_fn=<TanhBackward0>), hidden_states=None, past_key_values=None, attentions=None, cross_attentions=None)\n"
     ]
    }
   ],
   "source": [
    "from transformers import BertModel, BertTokenizer\n",
    "import re\n",
    "tokenizer = BertTokenizer.from_pretrained('../../models/prot_bert_bfd', do_lower_case=False )\n",
    "model = BertModel.from_pretrained(\"../../models/prot_bert_bfd\")\n",
    "sequence_Example = \"A E T C Z A O\"\n",
    "sequence_Example = re.sub(r\"[UZOB]\", \"X\", sequence_Example)\n",
    "encoded_input = tokenizer(sequence_Example, return_tensors='pt')\n",
    "output = model(**encoded_input)\n",
    "\n",
    "print(output)"
   ]
  },
  {
   "attachments": {},
   "cell_type": "markdown",
   "id": "0ae7b6d9",
   "metadata": {},
   "source": [
    "ProtBert ProtT5-XL-UniRef50"
   ]
  },
  {
   "cell_type": "code",
   "execution_count": 6,
   "id": "e3ec2f0b",
   "metadata": {},
   "outputs": [
    {
     "ename": "TypeError",
     "evalue": "'NoneType' object is not callable",
     "output_type": "error",
     "traceback": [
      "\u001b[0;31m---------------------------------------------------------------------------\u001b[0m",
      "\u001b[0;31mTypeError\u001b[0m                                 Traceback (most recent call last)",
      "\u001b[1;32m/home/vicente/projects/neoantigen/test_pretrained_models.ipynb Cell 13\u001b[0m in \u001b[0;36m<cell line: 7>\u001b[0;34m()\u001b[0m\n\u001b[1;32m      <a href='vscode-notebook-cell:/home/vicente/projects/neoantigen/test_pretrained_models.ipynb#X15sZmlsZQ%3D%3D?line=3'>4</a>\u001b[0m device \u001b[39m=\u001b[39m torch\u001b[39m.\u001b[39mdevice(\u001b[39m'\u001b[39m\u001b[39mcpu\u001b[39m\u001b[39m'\u001b[39m)\n\u001b[1;32m      <a href='vscode-notebook-cell:/home/vicente/projects/neoantigen/test_pretrained_models.ipynb#X15sZmlsZQ%3D%3D?line=5'>6</a>\u001b[0m \u001b[39m# Load the tokenizer\u001b[39;00m\n\u001b[0;32m----> <a href='vscode-notebook-cell:/home/vicente/projects/neoantigen/test_pretrained_models.ipynb#X15sZmlsZQ%3D%3D?line=6'>7</a>\u001b[0m tokenizer \u001b[39m=\u001b[39m T5Tokenizer\u001b[39m.\u001b[39;49mfrom_pretrained(\u001b[39m'\u001b[39;49m\u001b[39m../../models/prot_t5_xl_half_uniref50-enc\u001b[39;49m\u001b[39m'\u001b[39;49m, do_lower_case\u001b[39m=\u001b[39;49m\u001b[39mFalse\u001b[39;49;00m)\u001b[39m.\u001b[39mto(device)\n\u001b[1;32m      <a href='vscode-notebook-cell:/home/vicente/projects/neoantigen/test_pretrained_models.ipynb#X15sZmlsZQ%3D%3D?line=8'>9</a>\u001b[0m \u001b[39m# Load the model\u001b[39;00m\n\u001b[1;32m     <a href='vscode-notebook-cell:/home/vicente/projects/neoantigen/test_pretrained_models.ipynb#X15sZmlsZQ%3D%3D?line=9'>10</a>\u001b[0m model \u001b[39m=\u001b[39m T5EncoderModel\u001b[39m.\u001b[39mfrom_pretrained(\u001b[39m\"\u001b[39m\u001b[39m../../models/prot_t5_xl_half_uniref50-enc\u001b[39m\u001b[39m\"\u001b[39m)\u001b[39m.\u001b[39mto(device)\n",
      "\u001b[0;31mTypeError\u001b[0m: 'NoneType' object is not callable"
     ]
    }
   ],
   "source": [
    "from transformers import T5Tokenizer, T5EncoderModel\n",
    "import torch\n",
    "#device = torch.device('cuda:0' if torch.cuda.is_available() else 'cpu')\n",
    "device = torch.device('cpu')\n",
    "\n",
    "# Load the tokenizer\n",
    "tokenizer = T5Tokenizer.from_pretrained('../../models/prot_t5_xl_half_uniref50-enc', do_lower_case=False).to(device)\n",
    "\n",
    "# Load the model\n",
    "model = T5EncoderModel.from_pretrained(\"../../models/prot_t5_xl_half_uniref50-enc\").to(device)\n",
    "\n",
    "# only GPUs support half-precision currently; if you want to run on CPU use full-precision (not recommended, much slower)\n",
    "model.full() if device=='cpu' else model.half()\n",
    "\n",
    "# prepare your protein sequences as a list\n",
    "sequence_examples = [\"PRTEINO\", \"SEQWENCE\"]\n",
    "\n",
    "# replace all rare/ambiguous amino acids by X and introduce white-space between all amino acids\n",
    "sequence_examples = [\" \".join(list(re.sub(r\"[UZOB]\", \"X\", sequence))) for sequence in sequence_examples]\n",
    "\n",
    "# tokenize sequences and pad up to the longest sequence in the batch\n",
    "ids = tokenizer.batch_encode_plus(sequences_example, add_special_tokens=True, padding=\"longest\")\n",
    "\n",
    "input_ids = torch.tensor(ids['input_ids']).to(device)\n",
    "attention_mask = torch.tensor(ids['attention_mask']).to(device)\n",
    "\n",
    "# generate embeddings\n",
    "with torch.no_grad():\n",
    "    embedding_rpr = model(input_ids=input_ids,attention_mask=attention_mask)\n",
    "\n",
    "# extract residue embeddings for the first ([0,:]) sequence in the batch and remove padded & special tokens ([0,:7]) \n",
    "emb_0 = embedding_repr.last_hidden_state[0,:7] # shape (7 x 1024)\n",
    "# same for the second ([1,:]) sequence but taking into account different sequence lengths ([1,:8])\n",
    "emb_1 = embedding_repr.last_hidden_state[1,:8] # shape (8 x 1024)\n",
    "\n",
    "# if you want to derive a single representation (per-protein embedding) for the whole protein\n",
    "emb_0_per_protein = emb_0.mean(dim=0) # shape (1024)"
   ]
  }
 ],
 "metadata": {
  "kernelspec": {
   "display_name": "torch11",
   "language": "python",
   "name": "python3"
  },
  "language_info": {
   "codemirror_mode": {
    "name": "ipython",
    "version": 3
   },
   "file_extension": ".py",
   "mimetype": "text/x-python",
   "name": "python",
   "nbconvert_exporter": "python",
   "pygments_lexer": "ipython3",
   "version": "3.8.13"
  },
  "vscode": {
   "interpreter": {
    "hash": "706e3f9463f4659aea008cbeb97149de47ce197374eec6ebe341c89d29bb6fd4"
   }
  }
 },
 "nbformat": 4,
 "nbformat_minor": 5
}
