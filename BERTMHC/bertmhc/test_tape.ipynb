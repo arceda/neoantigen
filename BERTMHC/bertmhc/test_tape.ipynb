{
 "cells": [
  {
   "cell_type": "code",
   "execution_count": 8,
   "id": "5cffff80-0c20-4f63-ae5e-a828b00d01d6",
   "metadata": {},
   "outputs": [],
   "source": [
    "import torch\n",
    "from tape import ProteinBertModel, TAPETokenizer"
   ]
  },
  {
   "attachments": {},
   "cell_type": "markdown",
   "id": "70c55b9e",
   "metadata": {},
   "source": [
    "Uso del modelo de TAPE"
   ]
  },
  {
   "cell_type": "code",
   "execution_count": 2,
   "id": "8b18e759-686e-4513-9414-ed50e525a3b4",
   "metadata": {},
   "outputs": [],
   "source": [
    "model = ProteinBertModel.from_pretrained('bert-base')\n",
    "tokenizer = TAPETokenizer(vocab='iupac')  # iupac is the vocab for TAPE models, use unirep for the UniRep model\n",
    "#print(model)"
   ]
  },
  {
   "cell_type": "code",
   "execution_count": 6,
   "id": "d5b69b4e-61dd-479e-ae74-0da77d3233b6",
   "metadata": {},
   "outputs": [
    {
     "name": "stdout",
     "output_type": "stream",
     "text": [
      "[ 2 11  7 23 25  9  8 21  7 15 13 11 16 11  5 13 15 15 17 11  7 25 13 11\n",
      " 22 11 22 15 25  5  5 11  5 15 13 23 20  3]\n",
      "(38,)\n"
     ]
    }
   ],
   "source": [
    "sequence = 'GCTVEDRCLIGMGAILLNGCVIGSGSLVAAGALITQ'\n",
    "encoding = tokenizer.encode(sequence)\n",
    "print(encoding)\n",
    "print(encoding.shape)\n",
    "token_ids = torch.tensor([tokenizer.encode(sequence)])"
   ]
  },
  {
   "cell_type": "code",
   "execution_count": 7,
   "id": "b234db68-0454-4bb0-8541-eabcf167fcaf",
   "metadata": {},
   "outputs": [
    {
     "name": "stdout",
     "output_type": "stream",
     "text": [
      "torch.Size([1, 38, 768])\n",
      "tensor([[[ 0.9592,  0.7883, -0.2636,  ...,  0.2139,  0.6012, -1.0673],\n",
      "         [ 0.2163, -0.5777, -1.0532,  ..., -1.1601, -0.4544, -0.9216],\n",
      "         [ 2.7015,  0.1971, -0.3688,  ...,  0.7066, -1.1335, -0.6094],\n",
      "         ...,\n",
      "         [-0.5623, -0.3641,  0.2798,  ..., -0.5844, -0.3658,  0.5741],\n",
      "         [ 0.4184, -0.4971, -0.1429,  ...,  0.1260,  0.3042, -0.4440],\n",
      "         [ 0.0213, -0.0259, -1.1278,  ...,  0.2184, -0.7176, -0.2370]]],\n",
      "       grad_fn=<AddBackward0>)\n"
     ]
    }
   ],
   "source": [
    "output = model(token_ids)\n",
    "sequence_output = output[0]\n",
    "pooled_output = output[1]\n",
    "print(sequence_output.shape)\n",
    "print(sequence_output)"
   ]
  }
 ],
 "metadata": {
  "kernelspec": {
   "display_name": "torch11",
   "language": "python",
   "name": "python3"
  },
  "language_info": {
   "codemirror_mode": {
    "name": "ipython",
    "version": 3
   },
   "file_extension": ".py",
   "mimetype": "text/x-python",
   "name": "python",
   "nbconvert_exporter": "python",
   "pygments_lexer": "ipython3",
   "version": "3.8.13"
  },
  "vscode": {
   "interpreter": {
    "hash": "706e3f9463f4659aea008cbeb97149de47ce197374eec6ebe341c89d29bb6fd4"
   }
  }
 },
 "nbformat": 4,
 "nbformat_minor": 5
}
