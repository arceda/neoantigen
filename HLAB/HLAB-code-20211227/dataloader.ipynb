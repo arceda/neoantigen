{
 "cells": [
  {
   "attachments": {},
   "cell_type": "markdown",
   "metadata": {},
   "source": [
    "# Data loader de HLAB"
   ]
  },
  {
   "attachments": {},
   "cell_type": "markdown",
   "metadata": {},
   "source": [
    "Este es el data loader de HLAB original, es peculiar porque utiliza el dataloader para obtener las seudosecuencias."
   ]
  },
  {
   "cell_type": "code",
   "execution_count": 1,
   "metadata": {},
   "outputs": [
    {
     "name": "stderr",
     "output_type": "stream",
     "text": [
      "/home/vicente/anaconda3/envs/torch11/lib/python3.8/site-packages/tqdm/auto.py:21: TqdmWarning: IProgress not found. Please update jupyter and ipywidgets. See https://ipywidgets.readthedocs.io/en/stable/user_install.html\n",
      "  from .autonotebook import tqdm as notebook_tqdm\n",
      "WARNING:root:Limited tf.compat.v2.summary API due to missing TensorBoard installation.\n",
      "WARNING:root:Limited tf.compat.v2.summary API due to missing TensorBoard installation.\n",
      "WARNING:root:Limited tf.compat.v2.summary API due to missing TensorBoard installation.\n",
      "WARNING:root:Limited tf.summary API due to missing TensorBoard installation.\n"
     ]
    }
   ],
   "source": [
    "import torch\n",
    "from transformers import BertTokenizer\n",
    "from torch.utils.data import Dataset\n",
    "import os\n",
    "import pandas as pd\n",
    "import numpy as np\n",
    "import re"
   ]
  },
  {
   "cell_type": "code",
   "execution_count": 3,
   "metadata": {},
   "outputs": [],
   "source": [
    "\n",
    "class Load_Dataset(Dataset):\n",
    "    def __init__(self, split=\"train\", tokenizer_name='../../models/prot_bert_bfd', max_length=51):\n",
    "        \"\"\"\n",
    "        Args:\n",
    "        \"\"\"               \n",
    "        self.tokenizer = BertTokenizer.from_pretrained(tokenizer_name, do_lower_case=False)\n",
    "\n",
    "        if split == \"train\":\n",
    "            self.seqs, self.labels = self.load_dataset(\"dataset/train_data.csv\")\n",
    "        elif split == \"valid\":\n",
    "            self.seqs, self.labels = self.load_dataset(\"dataset/valid_data.csv\")\n",
    "        elif split == \"test\":\n",
    "            self.seqs, self.labels = self.load_dataset(\"dataset/test_data.csv\")\n",
    "        self.max_length = max_length\n",
    "\n",
    "    def HLA_trans(self):\n",
    "        HLA_seq = pd.read_csv('source/MHC_pseudo.dat', sep='\\t')\n",
    "        seqs = {}\n",
    "        for i in range(len(HLA_seq)):\n",
    "            seqs[HLA_seq.HLA[i]] = HLA_seq.sequence[i]\n",
    "        return seqs\n",
    "\n",
    "    def transform(self, HLA, peptide):\n",
    "        data = HLA + peptide\n",
    "        data = data + 'X' * (49 - len(data)) # no usa el max length\n",
    "        return data\n",
    "\n",
    "    def read_and_prepare(self,file):\n",
    "        data = pd.read_csv(file)\n",
    "        seqs = self.HLA_trans()\n",
    "        data['cost_cents'] = data.apply(\n",
    "            lambda row: self.transform(\n",
    "                HLA=seqs[row['HLA'][0:5]+row['HLA'][6:]],\n",
    "                peptide=row['peptide']),\n",
    "            axis=1)\n",
    "        return np.vstack(data.cost_cents)\n",
    "\n",
    "    def get_label(self,file):\n",
    "        data = pd.read_csv(file)\n",
    "        label = []\n",
    "        label.append(data['Label'].values)\n",
    "        return label\n",
    "\n",
    "    def load_dataset(self,data_path):\n",
    "        file = data_path\n",
    "        df = pd.read_csv(file)\n",
    "        y_label = self.get_label(file)[0]\n",
    "        X_test = self.read_and_prepare(file)\n",
    "        X_test = X_test.tolist()\n",
    "        X_test = [' '.join(eachseq) for eachseq in X_test]\n",
    "        X_test = [\" \".join(eachseq) for eachseq in\n",
    "                  X_test]  # ['Y D S E Y R N I F T N T D E S N L Y L S Y N Y Y T W A V D A Y T W Y H M M V I F R L M',.....,'Y D S E Y R N I F T N T D E S N L Y L S Y N Y Y T W A V D A Y T W Y N F L I K F L L I']\n",
    "\n",
    "        return (X_test, y_label)\n",
    "\n",
    "    def __len__(self):\n",
    "        return len(self.labels)\n",
    "\n",
    "    def __getitem__(self, idx):\n",
    "        if torch.is_tensor(idx):\n",
    "            idx = idx.tolist()\n",
    "\n",
    "        seq = \" \".join(\"\".join(self.seqs[idx].split()))\n",
    "        seq = re.sub(r\"[UZOBJ]\", \"X\", seq).upper()\n",
    "\n",
    "        seq_ids = self.tokenizer(seq, truncation=True, padding='max_length', max_length=self.max_length)\n",
    "\n",
    "        sample = {key: torch.tensor(val) for key, val in seq_ids.items()}\n",
    "        sample['labels'] = torch.tensor(self.labels[idx])\n",
    "\n",
    "        return sample\n"
   ]
  },
  {
   "cell_type": "code",
   "execution_count": 4,
   "metadata": {},
   "outputs": [],
   "source": [
    "model_name = \"../../models/prot_bert_bfd\"  # '../../models/prot_bert_bfd'\n",
    "max_seq_length = 51  # 51\n",
    "\n",
    "train_dataset = Load_Dataset(split=\"train\", tokenizer_name=model_name, max_length=max_seq_length)\n",
    "val_dataset = Load_Dataset(split=\"valid\", tokenizer_name=model_name, max_length=max_seq_length)\n",
    "test_dataset = Load_Dataset(split=\"test\", tokenizer_name=model_name, max_length=max_seq_length)\n"
   ]
  },
  {
   "cell_type": "code",
   "execution_count": 6,
   "metadata": {},
   "outputs": [
    {
     "name": "stdout",
     "output_type": "stream",
     "text": [
      "torch.Size([51])\n"
     ]
    }
   ],
   "source": [
    "train_dataset[0]\n",
    "print(train_dataset[0]['input_ids'].shape)"
   ]
  },
  {
   "attachments": {},
   "cell_type": "markdown",
   "metadata": {},
   "source": [
    "Train"
   ]
  },
  {
   "cell_type": "code",
   "execution_count": 7,
   "metadata": {},
   "outputs": [
    {
     "name": "stderr",
     "output_type": "stream",
     "text": [
      "Some weights of the model checkpoint at ../../models/prot_bert_bfd were not used when initializing BertForSequenceClassification: ['cls.predictions.decoder.bias', 'cls.predictions.transform.dense.weight', 'cls.predictions.transform.dense.bias', 'cls.predictions.transform.LayerNorm.bias', 'cls.predictions.decoder.weight', 'cls.predictions.bias', 'cls.predictions.transform.LayerNorm.weight', 'cls.seq_relationship.weight', 'cls.seq_relationship.bias']\n",
      "- This IS expected if you are initializing BertForSequenceClassification from the checkpoint of a model trained on another task or with another architecture (e.g. initializing a BertForSequenceClassification model from a BertForPreTraining model).\n",
      "- This IS NOT expected if you are initializing BertForSequenceClassification from the checkpoint of a model that you expect to be exactly identical (initializing a BertForSequenceClassification model from a BertForSequenceClassification model).\n",
      "Some weights of BertForSequenceClassification were not initialized from the model checkpoint at ../../models/prot_bert_bfd and are newly initialized: ['classifier.weight', 'classifier.bias']\n",
      "You should probably TRAIN this model on a down-stream task to be able to use it for predictions and inference.\n"
     ]
    }
   ],
   "source": [
    "\"\"\"\n",
    "export MODEL_NAME='Rostlab/prot_bert_bfd'\n",
    "#export MODEL_NAME=./checkpoint-25200\n",
    "export OUTPUT_DIR=./results_lr5e-5_bert_gas16_bs16\n",
    "export LOGGING_DIR=./logging_lr5e-5_bert_gas16_bs16\n",
    "export LR=5e-5\n",
    "python run_finetune.py \\\n",
    "    --model_name_or_path $MODEL_NAME \\\n",
    "    --output_dir $OUTPUT_DIR\\\n",
    "    --logging_dir $LOGGING_DIR \\\n",
    "    --max_seq_length 51 \\\n",
    "    --do_train \\\n",
    "    --do_eval \\\n",
    "    --per_device_train_batch_size=16   \\\n",
    "    --per_device_eval_batch_size=32   \\\n",
    "    --num_train_epochs 3 \\\n",
    "    --gradient_accumulation_steps 16 \\\n",
    "    --lr $LR\\\n",
    "    --weight_decay 0.01 \\\n",
    "    --warmup_steps 1000 \\\n",
    "    --eval_steps 1052 \\\n",
    "    --save_steps 1052 \\\n",
    "    --logging_steps 1052 \\\n",
    "    --fp16\n",
    "\"\"\"\n",
    "\n",
    "from transformers import Trainer, TrainingArguments, BertConfig\n",
    "from bin.model_utils import BertForSequenceClassification\n",
    "from sklearn.metrics import accuracy_score, confusion_matrix, matthews_corrcoef, roc_auc_score\n",
    "\n",
    "def compute_metrics(pred):\n",
    "    '''\n",
    "\n",
    "    :param pred:\n",
    "    :return:\n",
    "    '''\n",
    "    labels = pred.label_ids\n",
    "    prediction=pred.predictions\n",
    "    preds = prediction.argmax(-1)\n",
    "    tn, fp, fn, tp = confusion_matrix(labels, preds).ravel()\n",
    "    sn = tp / (tp + fn)\n",
    "    sp = tn / (tn + fp)\n",
    "    mcc = matthews_corrcoef(labels, preds)\n",
    "    acc = accuracy_score(labels, preds)\n",
    "    auc = roc_auc_score(labels, preds)\n",
    "    return {\n",
    "        'auc': auc,\n",
    "        'sn': sn,\n",
    "        'sp': sp,\n",
    "        'accuracy': acc,\n",
    "        'mcc': mcc\n",
    "    }\n",
    "\n",
    "config = BertConfig.from_pretrained(\"../../models/prot_bert_bfd\", num_labels=2)\n",
    "#config.rnn = args.rnn\n",
    "#config.num_rnn_layer = args.num_rnn_layer\n",
    "#config.rnn_dropout = args.rnn_dropout\n",
    "#config.rnn_hidden = args.rnn_hidden\n",
    "#config.length = args.max_seq_length\n",
    "#config.cnn_filters = args.cnn_filters\n",
    "#config.cnn_dropout = args.cnn_dropout\n",
    "\n",
    "training_args = TrainingArguments(\n",
    "        output_dir=\"results/\",  # output directory\n",
    "        num_train_epochs=10,  # total number of training epochs\n",
    "        per_device_train_batch_size = 16,  # batch size per device during training\n",
    "        per_device_eval_batch_size = 32,  # batch size for evaluation\n",
    "        warmup_steps = 1000,  # number of warmup steps for learning rate scheduler\n",
    "        weight_decay = 0.01,  # strength of weight decay\n",
    "        learning_rate = 5e-5,  # The initial learning rate for optimizer.\n",
    "        logging_dir=\"results/\",  # directory for storing logs './logs'\n",
    "        logging_steps=1052,  # How often to print logs\n",
    "        save_steps=1052,\n",
    "        #do_train=args.do_train,  # Perform training\n",
    "        #do_eval=args.do_eval,  # Perform evaluation\n",
    "        eval_steps=1052,  # How often to eval\n",
    "        #evaluation_strategy=args.evaluation_strategy,  # evalaute per eval_steps\n",
    "        gradient_accumulation_steps=16,  # total number of steps before back propagation\n",
    "        #fp16=args.fp16,  # Use mixed precision\n",
    "        #fp16_opt_level=args.fp16_opt_level,  # mixed precision mode\n",
    "        #run_name=args.run_name,  # experiment name\n",
    "        #seed=args.seed,  # Seed for experiment reproducibility 3x3\n",
    "    )\n",
    "\n",
    "model = Trainer(\n",
    "        # model_init=model_init,                # the instantiated 🤗 Transformers model to be trained\n",
    "        args=training_args,  # training arguments, defined above\n",
    "        model=BertForSequenceClassification.from_pretrained(model_name, config=config),  # ProBERT\n",
    "        # model=ProteinBertSequenceClsRnn.from_pretrained(model_name, config=config),       # ProBERT+BiLSTM\n",
    "        # model=ProteinBertSequenceClsRnnAtt.from_pretrained(model_name, config=config),    # ProBERT+BiLSTM+Attention\n",
    "        # model=ProteinBertSequenceClsCnn.from_pretrained(model_name, config=config),       # ProBERT+CNN\n",
    "        train_dataset=train_dataset,  # training dataset\n",
    "        eval_dataset=val_dataset,  # evaluation dataset\n",
    "        compute_metrics=compute_metrics,  # evaluation metrics\n",
    "    )"
   ]
  },
  {
   "cell_type": "code",
   "execution_count": 9,
   "metadata": {},
   "outputs": [
    {
     "name": "stderr",
     "output_type": "stream",
     "text": [
      "/home/vicente/anaconda3/envs/torch11/lib/python3.8/site-packages/transformers/optimization.py:306: FutureWarning: This implementation of AdamW is deprecated and will be removed in a future version. Use the PyTorch implementation torch.optim.AdamW instead, or set `no_deprecation_warning=True` to disable this warning\n",
      "  warnings.warn(\n",
      "***** Running training *****\n",
      "  Num examples = 539019\n",
      "  Num Epochs = 10\n",
      "  Instantaneous batch size per device = 16\n",
      "  Total train batch size (w. parallel, distributed & accumulation) = 256\n",
      "  Gradient Accumulation steps = 16\n",
      "  Total optimization steps = 21050\n",
      "  Number of trainable parameters = 419933186\n"
     ]
    },
    {
     "ename": "RuntimeError",
     "evalue": "CUDA out of memory. Tried to allocate 16.00 MiB (GPU 0; 7.77 GiB total capacity; 5.02 GiB already allocated; 21.31 MiB free; 5.13 GiB reserved in total by PyTorch) If reserved memory is >> allocated memory try setting max_split_size_mb to avoid fragmentation.  See documentation for Memory Management and PYTORCH_CUDA_ALLOC_CONF",
     "output_type": "error",
     "traceback": [
      "\u001b[0;31m---------------------------------------------------------------------------\u001b[0m",
      "\u001b[0;31mRuntimeError\u001b[0m                              Traceback (most recent call last)",
      "\u001b[1;32m/home/vicente/projects/neoantigen/HLAB/HLAB-code-20211227/dataloader.ipynb Cell 8\u001b[0m in \u001b[0;36m<cell line: 2>\u001b[0;34m()\u001b[0m\n\u001b[1;32m      <a href='vscode-notebook-cell:/home/vicente/projects/neoantigen/HLAB/HLAB-code-20211227/dataloader.ipynb#X10sZmlsZQ%3D%3D?line=0'>1</a>\u001b[0m \u001b[39m# model.train(resume_from_checkpoint=\"./checkpoint-25200\")  #continue from checkpoint\u001b[39;00m\n\u001b[0;32m----> <a href='vscode-notebook-cell:/home/vicente/projects/neoantigen/HLAB/HLAB-code-20211227/dataloader.ipynb#X10sZmlsZQ%3D%3D?line=1'>2</a>\u001b[0m model\u001b[39m.\u001b[39;49mtrain()\n\u001b[1;32m      <a href='vscode-notebook-cell:/home/vicente/projects/neoantigen/HLAB/HLAB-code-20211227/dataloader.ipynb#X10sZmlsZQ%3D%3D?line=2'>3</a>\u001b[0m model\u001b[39m.\u001b[39msave_model(\u001b[39m'\u001b[39m\u001b[39mmodels/\u001b[39m\u001b[39m'\u001b[39m)\n",
      "File \u001b[0;32m~/anaconda3/envs/torch11/lib/python3.8/site-packages/transformers/trainer.py:1501\u001b[0m, in \u001b[0;36mTrainer.train\u001b[0;34m(self, resume_from_checkpoint, trial, ignore_keys_for_eval, **kwargs)\u001b[0m\n\u001b[1;32m   1496\u001b[0m     \u001b[39mself\u001b[39m\u001b[39m.\u001b[39mmodel_wrapped \u001b[39m=\u001b[39m \u001b[39mself\u001b[39m\u001b[39m.\u001b[39mmodel\n\u001b[1;32m   1498\u001b[0m inner_training_loop \u001b[39m=\u001b[39m find_executable_batch_size(\n\u001b[1;32m   1499\u001b[0m     \u001b[39mself\u001b[39m\u001b[39m.\u001b[39m_inner_training_loop, \u001b[39mself\u001b[39m\u001b[39m.\u001b[39m_train_batch_size, args\u001b[39m.\u001b[39mauto_find_batch_size\n\u001b[1;32m   1500\u001b[0m )\n\u001b[0;32m-> 1501\u001b[0m \u001b[39mreturn\u001b[39;00m inner_training_loop(\n\u001b[1;32m   1502\u001b[0m     args\u001b[39m=\u001b[39;49margs,\n\u001b[1;32m   1503\u001b[0m     resume_from_checkpoint\u001b[39m=\u001b[39;49mresume_from_checkpoint,\n\u001b[1;32m   1504\u001b[0m     trial\u001b[39m=\u001b[39;49mtrial,\n\u001b[1;32m   1505\u001b[0m     ignore_keys_for_eval\u001b[39m=\u001b[39;49mignore_keys_for_eval,\n\u001b[1;32m   1506\u001b[0m )\n",
      "File \u001b[0;32m~/anaconda3/envs/torch11/lib/python3.8/site-packages/transformers/trainer.py:1816\u001b[0m, in \u001b[0;36mTrainer._inner_training_loop\u001b[0;34m(self, batch_size, args, resume_from_checkpoint, trial, ignore_keys_for_eval)\u001b[0m\n\u001b[1;32m   1814\u001b[0m     optimizer_was_run \u001b[39m=\u001b[39m scale_before \u001b[39m<\u001b[39m\u001b[39m=\u001b[39m scale_after\n\u001b[1;32m   1815\u001b[0m \u001b[39melse\u001b[39;00m:\n\u001b[0;32m-> 1816\u001b[0m     \u001b[39mself\u001b[39;49m\u001b[39m.\u001b[39;49moptimizer\u001b[39m.\u001b[39;49mstep()\n\u001b[1;32m   1818\u001b[0m \u001b[39mif\u001b[39;00m optimizer_was_run \u001b[39mand\u001b[39;00m \u001b[39mnot\u001b[39;00m \u001b[39mself\u001b[39m\u001b[39m.\u001b[39mdeepspeed:\n\u001b[1;32m   1819\u001b[0m     \u001b[39mself\u001b[39m\u001b[39m.\u001b[39mlr_scheduler\u001b[39m.\u001b[39mstep()\n",
      "File \u001b[0;32m~/anaconda3/envs/torch11/lib/python3.8/site-packages/torch/optim/lr_scheduler.py:65\u001b[0m, in \u001b[0;36m_LRScheduler.__init__.<locals>.with_counter.<locals>.wrapper\u001b[0;34m(*args, **kwargs)\u001b[0m\n\u001b[1;32m     63\u001b[0m instance\u001b[39m.\u001b[39m_step_count \u001b[39m+\u001b[39m\u001b[39m=\u001b[39m \u001b[39m1\u001b[39m\n\u001b[1;32m     64\u001b[0m wrapped \u001b[39m=\u001b[39m func\u001b[39m.\u001b[39m\u001b[39m__get__\u001b[39m(instance, \u001b[39mcls\u001b[39m)\n\u001b[0;32m---> 65\u001b[0m \u001b[39mreturn\u001b[39;00m wrapped(\u001b[39m*\u001b[39;49margs, \u001b[39m*\u001b[39;49m\u001b[39m*\u001b[39;49mkwargs)\n",
      "File \u001b[0;32m~/anaconda3/envs/torch11/lib/python3.8/site-packages/torch/optim/optimizer.py:88\u001b[0m, in \u001b[0;36mOptimizer._hook_for_profile.<locals>.profile_hook_step.<locals>.wrapper\u001b[0;34m(*args, **kwargs)\u001b[0m\n\u001b[1;32m     86\u001b[0m profile_name \u001b[39m=\u001b[39m \u001b[39m\"\u001b[39m\u001b[39mOptimizer.step#\u001b[39m\u001b[39m{}\u001b[39;00m\u001b[39m.step\u001b[39m\u001b[39m\"\u001b[39m\u001b[39m.\u001b[39mformat(obj\u001b[39m.\u001b[39m\u001b[39m__class__\u001b[39m\u001b[39m.\u001b[39m\u001b[39m__name__\u001b[39m)\n\u001b[1;32m     87\u001b[0m \u001b[39mwith\u001b[39;00m torch\u001b[39m.\u001b[39mautograd\u001b[39m.\u001b[39mprofiler\u001b[39m.\u001b[39mrecord_function(profile_name):\n\u001b[0;32m---> 88\u001b[0m     \u001b[39mreturn\u001b[39;00m func(\u001b[39m*\u001b[39;49margs, \u001b[39m*\u001b[39;49m\u001b[39m*\u001b[39;49mkwargs)\n",
      "File \u001b[0;32m~/anaconda3/envs/torch11/lib/python3.8/site-packages/transformers/optimization.py:349\u001b[0m, in \u001b[0;36mAdamW.step\u001b[0;34m(self, closure)\u001b[0m\n\u001b[1;32m    347\u001b[0m state[\u001b[39m\"\u001b[39m\u001b[39mstep\u001b[39m\u001b[39m\"\u001b[39m] \u001b[39m=\u001b[39m \u001b[39m0\u001b[39m\n\u001b[1;32m    348\u001b[0m \u001b[39m# Exponential moving average of gradient values\u001b[39;00m\n\u001b[0;32m--> 349\u001b[0m state[\u001b[39m\"\u001b[39m\u001b[39mexp_avg\u001b[39m\u001b[39m\"\u001b[39m] \u001b[39m=\u001b[39m torch\u001b[39m.\u001b[39;49mzeros_like(p\u001b[39m.\u001b[39;49mdata)\n\u001b[1;32m    350\u001b[0m \u001b[39m# Exponential moving average of squared gradient values\u001b[39;00m\n\u001b[1;32m    351\u001b[0m state[\u001b[39m\"\u001b[39m\u001b[39mexp_avg_sq\u001b[39m\u001b[39m\"\u001b[39m] \u001b[39m=\u001b[39m torch\u001b[39m.\u001b[39mzeros_like(p\u001b[39m.\u001b[39mdata)\n",
      "\u001b[0;31mRuntimeError\u001b[0m: CUDA out of memory. Tried to allocate 16.00 MiB (GPU 0; 7.77 GiB total capacity; 5.02 GiB already allocated; 21.31 MiB free; 5.13 GiB reserved in total by PyTorch) If reserved memory is >> allocated memory try setting max_split_size_mb to avoid fragmentation.  See documentation for Memory Management and PYTORCH_CUDA_ALLOC_CONF"
     ]
    },
    {
     "ename": "",
     "evalue": "",
     "output_type": "error",
     "traceback": [
      "\u001b[1;31mThe Kernel crashed while executing code in the the current cell or a previous cell. Please review the code in the cell(s) to identify a possible cause of the failure. Click <a href='https://aka.ms/vscodeJupyterKernelCrash'>here</a> for more info. View Jupyter <a href='command:jupyter.viewOutput'>log</a> for further details."
     ]
    }
   ],
   "source": [
    "# model.train(resume_from_checkpoint=\"./checkpoint-25200\")  #continue from checkpoint\n",
    "model.train()\n",
    "model.save_model('models/')\n",
    "#predictions, label_ids, metrics = model.predict(test_dataset)\n",
    "#print(metrics)"
   ]
  }
 ],
 "metadata": {
  "kernelspec": {
   "display_name": "torch11",
   "language": "python",
   "name": "python3"
  },
  "language_info": {
   "codemirror_mode": {
    "name": "ipython",
    "version": 3
   },
   "file_extension": ".py",
   "mimetype": "text/x-python",
   "name": "python",
   "nbconvert_exporter": "python",
   "pygments_lexer": "ipython3",
   "version": "3.8.13"
  },
  "orig_nbformat": 4
 },
 "nbformat": 4,
 "nbformat_minor": 2
}
