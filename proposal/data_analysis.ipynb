{
 "cells": [
  {
   "attachments": {},
   "cell_type": "markdown",
   "metadata": {},
   "source": [
    "Analisis de los tamaños de los petido y MHC, con el objetivo de definir un tamaño maximo y hacer padding"
   ]
  },
  {
   "cell_type": "code",
   "execution_count": 10,
   "metadata": {},
   "outputs": [
    {
     "name": "stdout",
     "output_type": "stream",
     "text": [
      "max peptide length 37\n",
      "max MHC length 34\n",
      "max peptide length 37\n",
      "max MHC length 34\n",
      "max peptide length 37\n",
      "max MHC length 34\n"
     ]
    }
   ],
   "source": [
    "import pandas as pd\n",
    "\n",
    "data = pd.read_csv('../dataset/netMHCIIpan3.2/train.csv')\n",
    "#print(data)\n",
    "\n",
    "print(f\"max peptide length {data.peptide.str.len().max()}\")\n",
    "print(f\"max MHC length {data.mhc.str.len().max()}\")\n",
    "\n",
    "\n",
    "data = pd.read_csv('../dataset/netMHCIIpan3.2/test.csv')\n",
    "#print(data)\n",
    "\n",
    "print(f\"max peptide length {data.peptide.str.len().max()}\")\n",
    "print(f\"max MHC length {data.mhc.str.len().max()}\")\n",
    "\n",
    "\n",
    "data = pd.read_csv('../dataset/netMHCIIpan3.2/eval.csv')\n",
    "#print(data)\n",
    "\n",
    "print(f\"max peptide length {data.peptide.str.len().max()}\")\n",
    "print(f\"max MHC length {data.mhc.str.len().max()}\")"
   ]
  }
 ],
 "metadata": {
  "kernelspec": {
   "display_name": "torch11",
   "language": "python",
   "name": "python3"
  },
  "language_info": {
   "codemirror_mode": {
    "name": "ipython",
    "version": 3
   },
   "file_extension": ".py",
   "mimetype": "text/x-python",
   "name": "python",
   "nbconvert_exporter": "python",
   "pygments_lexer": "ipython3",
   "version": "3.8.13"
  },
  "orig_nbformat": 4
 },
 "nbformat": 4,
 "nbformat_minor": 2
}
